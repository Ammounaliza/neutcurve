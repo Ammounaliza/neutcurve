{
 "cells": [
  {
   "cell_type": "markdown",
   "metadata": {},
   "source": [
    "## Hill-curve neutralization\n",
    "\n",
    "### Mathematical form of curves\n",
    "\n",
    "The neutralization curve is fit to measurements of the fraction\n",
    "infectivity remaining $f\\left(c\\right)$ at several different serum\n",
    "concentrations $c$. The equation for the curve is:\n",
    "\n",
    "$$\n",
    "f(c) = b + \\frac{t - b}{1 + (c/m)^s}\n",
    "$$\n",
    "\n",
    "where $m$ is the midpoint of the curve, $t$ is the “top” of\n",
    "the curve, $b$ is the bottom of the curve, and $s$ is the\n",
    "“slope” or Hill coefficient of the curve.\n",
    "\n",
    "If the curve spans from completely non-neutralized (100% infectivity\n",
    "remaining) to completely neutralized (0% infectivity remaining), then\n",
    "$t = 1$ and $b = 0$. In this case, Equation (1) is\n",
    "identical to 1 minus the [Hill equation defined on\n",
    "Wikipedia](https://en.wikipedia.org/wiki/Hill_equation_(biochemistry)).\n",
    "\n",
    "However, it will not always be the case that the top and bottom are at 1\n",
    "and 0. The reason is that some antibodies and sera do not go to complete\n",
    "neutralization (see\n",
    "[here](https://doi.org/10.1371/journal.ppat.1005110) for a discussion\n",
    "of the phenomenon for HIV). For such antibodies, $b$ will in\n",
    "general be $>0$. Therefore, in the fitting you have the option of\n",
    "constraining the top and bottom to $t = 1$ and $b = 0$, or\n",
    "to fit them as free parameters.\n",
    "The default is to constrain the top to\n",
    "$t = 1$ and the bottom to $b = 0$, but you should look at your curves\n",
    "to ensure this makes sense–and if they don’t plateau at complete neutralization,\n",
    "set the bottom $b$ to be a free parameter to allow for incomplete neutralization.\n",
    "\n",
    "Since $f\\left(c\\right)$ in Equation (1) is the fraction **infectivity**, we expect\n",
    "$f\\left(c\\right)$ to get smaller as the antibody concentration\n",
    "increases. Just be aware that some papers will plot fraction neutralized\n",
    "rather than fraction infectivity; fraction neutralized is\n",
    "$1 - f\\left(c\\right)$. If your data is fraction neutralized, you\n",
    "should convert it to fraction infectivity before using this package, or\n",
    "use the  option described in the docs\n",
    "for `neutcurve.hillcurve.HillCurve`.\n",
    "\n",
    "### Fitting using the HillCurve class\n",
    "\n",
    "The curves are fit using the `neutcurve.hillcurve.HillCurve`\n",
    "class. For fitting to actual data, you will typically want to fit these\n",
    "curves via `neutcurve.curvefits.CurveFits` as described in Fitting curves to real data, particularly when\n",
    "there are multiple samples being fit at once. Nonetheless, here we\n",
    "illustrate the basic fitting to a single sample using\n",
    "`neutcurve.hillcurve.HillCurve`.\n",
    "\n",
    "First, we import the requisite Python modules:"
   ]
  },
  {
   "cell_type": "code",
   "execution_count": 1,
   "metadata": {},
   "outputs": [],
   "source": [
    "import pandas as pd\n",
    "\n",
    "import neutcurve"
   ]
  },
  {
   "cell_type": "markdown",
   "metadata": {},
   "source": [
    "Set pandas display options:"
   ]
  },
  {
   "cell_type": "code",
   "execution_count": 2,
   "metadata": {},
   "outputs": [],
   "source": [
    "pd.set_option('display.float_format', '{:.5f}'.format)"
   ]
  },
  {
   "cell_type": "markdown",
   "metadata": {},
   "source": [
    "Now we get example data to plot. We use as our example the\n",
    "neutralization of wildtype (WT) A/WSN/1933 (H1N1) influenza by the\n",
    "broadly neutralizing antibody FI6v3 as determined in [Fig 6a of Doud et\n",
    "al (2018)](https://www.nature.com/articles/s41467-018-03665-3#Fig6).\n",
    "The numerical data in that figure in tidy form are available in the CSV file\n",
    "`example_data/Doud_et_al_2018-neutdata.csv`.\n",
    "We read the data and get just the measurements for replicate 1 of\n",
    "the wildtype virus against FI6v3:"
   ]
  },
  {
   "cell_type": "code",
   "execution_count": 3,
   "metadata": {},
   "outputs": [],
   "source": [
    "fi6v3_datafile = 'example_data/Doud_et_al_2018-neutdata.csv'"
   ]
  },
  {
   "cell_type": "markdown",
   "metadata": {},
   "source": [
    "<!-- Next cell sets right file path if running with pytest from top directory. -->"
   ]
  },
  {
   "cell_type": "code",
   "execution_count": 4,
   "metadata": {},
   "outputs": [
    {
     "data": {
      "text/html": [
       "<div>\n",
       "<style scoped>\n",
       "    .dataframe tbody tr th:only-of-type {\n",
       "        vertical-align: middle;\n",
       "    }\n",
       "\n",
       "    .dataframe tbody tr th {\n",
       "        vertical-align: top;\n",
       "    }\n",
       "\n",
       "    .dataframe thead th {\n",
       "        text-align: right;\n",
       "    }\n",
       "</style>\n",
       "<table border=\"1\" class=\"dataframe\">\n",
       "  <thead>\n",
       "    <tr style=\"text-align: right;\">\n",
       "      <th></th>\n",
       "      <th>concentration</th>\n",
       "      <th>fraction infectivity</th>\n",
       "    </tr>\n",
       "  </thead>\n",
       "  <tbody>\n",
       "    <tr>\n",
       "      <th>0</th>\n",
       "      <td>0.00020</td>\n",
       "      <td>1.01373</td>\n",
       "    </tr>\n",
       "    <tr>\n",
       "      <th>1</th>\n",
       "      <td>0.00048</td>\n",
       "      <td>0.94201</td>\n",
       "    </tr>\n",
       "    <tr>\n",
       "      <th>2</th>\n",
       "      <td>0.00112</td>\n",
       "      <td>0.99285</td>\n",
       "    </tr>\n",
       "    <tr>\n",
       "      <th>3</th>\n",
       "      <td>0.00260</td>\n",
       "      <td>0.96621</td>\n",
       "    </tr>\n",
       "    <tr>\n",
       "      <th>4</th>\n",
       "      <td>0.00607</td>\n",
       "      <td>0.95670</td>\n",
       "    </tr>\n",
       "    <tr>\n",
       "      <th>5</th>\n",
       "      <td>0.01417</td>\n",
       "      <td>0.58633</td>\n",
       "    </tr>\n",
       "    <tr>\n",
       "      <th>6</th>\n",
       "      <td>0.03305</td>\n",
       "      <td>0.16945</td>\n",
       "    </tr>\n",
       "    <tr>\n",
       "      <th>7</th>\n",
       "      <td>0.07712</td>\n",
       "      <td>0.01413</td>\n",
       "    </tr>\n",
       "    <tr>\n",
       "      <th>8</th>\n",
       "      <td>0.17995</td>\n",
       "      <td>-0.02539</td>\n",
       "    </tr>\n",
       "    <tr>\n",
       "      <th>9</th>\n",
       "      <td>0.41989</td>\n",
       "      <td>-0.03255</td>\n",
       "    </tr>\n",
       "    <tr>\n",
       "      <th>10</th>\n",
       "      <td>0.97974</td>\n",
       "      <td>-0.03667</td>\n",
       "    </tr>\n",
       "    <tr>\n",
       "      <th>11</th>\n",
       "      <td>2.28606</td>\n",
       "      <td>-0.02877</td>\n",
       "    </tr>\n",
       "  </tbody>\n",
       "</table>\n",
       "</div>"
      ],
      "text/plain": [
       "    concentration  fraction infectivity\n",
       "0         0.00020               1.01373\n",
       "1         0.00048               0.94201\n",
       "2         0.00112               0.99285\n",
       "3         0.00260               0.96621\n",
       "4         0.00607               0.95670\n",
       "5         0.01417               0.58633\n",
       "6         0.03305               0.16945\n",
       "7         0.07712               0.01413\n",
       "8         0.17995              -0.02539\n",
       "9         0.41989              -0.03255\n",
       "10        0.97974              -0.03667\n",
       "11        2.28606              -0.02877"
      ]
     },
     "execution_count": 4,
     "metadata": {},
     "output_type": "execute_result"
    }
   ],
   "source": [
    "data = (pd.read_csv(fi6v3_datafile)\n",
    "        .query('(serum == \"FI6v3\") & (virus == \"WT\") & (replicate == \"1\")')\n",
    "        [['concentration', 'fraction infectivity']]\n",
    "        .reset_index(drop=True)\n",
    "        )\n",
    "data.round(5)"
   ]
  },
  {
   "cell_type": "markdown",
   "metadata": {},
   "source": [
    "As can be seen above, the data give the fraction activity at each\n",
    "antibody concentration (which in this case is in $\\mu$g/ml).\n",
    "\n",
    "Now we initialize a `neutcurve.hillcurve.HillCurve` with these\n",
    "data:"
   ]
  },
  {
   "cell_type": "code",
   "execution_count": 5,
   "metadata": {},
   "outputs": [],
   "source": [
    "curve = neutcurve.HillCurve(data['concentration'],\n",
    "                            data['fraction infectivity'])"
   ]
  },
  {
   "cell_type": "markdown",
   "metadata": {},
   "source": [
    "We can now look at the values of each of the four fit parameters that\n",
    "define the curve:"
   ]
  },
  {
   "cell_type": "code",
   "execution_count": 6,
   "metadata": {},
   "outputs": [
    {
     "name": "stdout",
     "output_type": "stream",
     "text": [
      "The top (t) is 1\n",
      "The bottom (b) is 0\n",
      "The midpoint (m) is 0.0167\n",
      "The slope (Hill coefficient)s is 2.5\n"
     ]
    }
   ],
   "source": [
    "print(f\"The top (t) is {curve.top:.3g}\\n\"\n",
    "      f\"The bottom (b) is {curve.bottom:.3g}\\n\"\n",
    "      f\"The midpoint (m) is {curve.midpoint:.3g}\\n\"\n",
    "      f\"The slope (Hill coefficient)s is {curve.slope:.3g}\")"
   ]
  },
  {
   "cell_type": "markdown",
   "metadata": {},
   "source": [
    "Note that the top and bottom are one and zero as they were constrained\n",
    "to those values.\n",
    "If you want to change whether the top and/or bottom are\n",
    "fixed or fit, you can do that using the  and \n",
    "arguments to `neutcurve.hillcurve.HillCurve` as described in\n",
    "the docs for that class. For instance, below we fit the top and fix the\n",
    "bottom (it makes very little difference for this particular dataset):"
   ]
  },
  {
   "cell_type": "code",
   "execution_count": 7,
   "metadata": {},
   "outputs": [
    {
     "name": "stdout",
     "output_type": "stream",
     "text": [
      "The top (t) is 0.987\n",
      "The bottom (b) is 0\n",
      "The midpoint (m) is 0.0169\n",
      "The slope (Hill coefficient)s is 2.57\n"
     ]
    }
   ],
   "source": [
    "curve2 = neutcurve.HillCurve(data['concentration'],\n",
    "                             data['fraction infectivity'],\n",
    "                             fixtop=False)\n",
    "\n",
    "print(f\"The top (t) is {curve2.top:.3g}\\n\"\n",
    "      f\"The bottom (b) is {curve2.bottom:.3g}\\n\"\n",
    "      f\"The midpoint (m) is {curve2.midpoint:.3g}\\n\"\n",
    "      f\"The slope (Hill coefficient)s is {curve2.slope:.3g}\")"
   ]
  },
  {
   "cell_type": "markdown",
   "metadata": {},
   "source": [
    "We can also get the IC50, which is the concentration where\n",
    "$f\\left(c\\right) = 0.5$. The IC50 will be equal to the midpoint\n",
    "$m$ when the top ($t$) is one and the bottom ($b$) is\n",
    "zero, but otherwise it may be different than the IC50. For this\n",
    "particular dataset, the IC50 is very close to the midpoint:"
   ]
  },
  {
   "cell_type": "code",
   "execution_count": 8,
   "metadata": {},
   "outputs": [
    {
     "name": "stdout",
     "output_type": "stream",
     "text": [
      "The IC50 is 0.0167\n"
     ]
    }
   ],
   "source": [
    "print(f\"The IC50 is {curve.ic50():.3g}\")"
   ]
  },
  {
   "cell_type": "markdown",
   "metadata": {},
   "source": [
    "Note that `neutcurve.hillcurve.HillCurve.ic50()` has a \n",
    "option for how to handle computing the IC50 if it doesn’t fall within\n",
    "the range of the provided concentrations and so cannot be interpolated\n",
    "(see the docs for that method for details). This doesn’t matter for this\n",
    "particular dataset, however, since the IC50 falls within the range of\n",
    "the data. There are also two other methods that deal with IC50s that\n",
    "cannot be interpolated and so are only determinable as upper / lower\n",
    "bounds:\n",
    "\n",
    "> * `neutcurve.hillcurve.HillCurve.ic50_bound()`\n",
    "\n",
    "> * `neutcurve.hillcurve.HillCurve.ic50_str()`"
   ]
  },
  {
   "cell_type": "code",
   "execution_count": 9,
   "metadata": {},
   "outputs": [
    {
     "data": {
      "text/plain": [
       "'0.0167'"
      ]
     },
     "execution_count": 9,
     "metadata": {},
     "output_type": "execute_result"
    }
   ],
   "source": [
    "curve.ic50_bound()\n",
    "curve.ic50_str()"
   ]
  },
  {
   "cell_type": "markdown",
   "metadata": {},
   "source": [
    "We can generalize the IC50 using `neutcurve.hillcurve.HillCurve.icXX()`,\n",
    "which will compute the concentration at which an arbitrary fraction of\n",
    "virus is expected to be **neutralized** (note that this is fraction neutralized,\n",
    "which is one minus the fraction infectivity).\n",
    "For instance:"
   ]
  },
  {
   "cell_type": "code",
   "execution_count": 10,
   "metadata": {},
   "outputs": [
    {
     "name": "stdout",
     "output_type": "stream",
     "text": [
      "The IC95 is 0.0541\n"
     ]
    }
   ],
   "source": [
    "print(f\"The IC95 is {curve.icXX(0.95):.3g}\")"
   ]
  },
  {
   "cell_type": "markdown",
   "metadata": {},
   "source": [
    "Note that `neutcurve.hillcurve.HillCurve.icXX()` has a  argument\n",
    "that determines how we handle the case when the ICXX is outside of the range\n",
    "of measured concentrations, and that there are two other methods that deal\n",
    "with ICXXs that cannot be interpolated and are only determinable as upper /\n",
    "lower bounds:\n",
    "\n",
    "> * `neutcurve.hillcurve.HillCurve.icXX_bound()`\n",
    "\n",
    "> * `neutcurve.hillcurve.HillCurve.icXX_str()`\n",
    "\n",
    "We can plot the neutralization curve using the\n",
    "`neutcurve.hillcurve.HillCurve.plot()` function. This returns a\n",
    "matplotlib figure and axis instance:"
   ]
  },
  {
   "cell_type": "code",
   "execution_count": 11,
   "metadata": {},
   "outputs": [
    {
     "name": "stderr",
     "output_type": "stream",
     "text": [
      "/fh/fast/bloom_j/software/miniconda3/envs/BloomLab/lib/python3.8/site-packages/numpy/core/_asarray.py:83: UserWarning: Warning: converting a masked element to nan.\n",
      "  return array(a, dtype, copy=False, order=order)\n"
     ]
    },
    {
     "data": {
      "image/png": "[encoded data removed]",
      "text/plain": [
       "<Figure size 288x216 with 1 Axes>"
      ]
     },
     "metadata": {
      "needs_background": "light"
     },
     "output_type": "display_data"
    }
   ],
   "source": [
    "fig, ax = curve.plot(xlabel='concentration (ug/ml)')"
   ]
  },
  {
   "cell_type": "markdown",
   "metadata": {},
   "source": [
    "If you want to save the figure, do this using its\n",
    "[savefig](https://matplotlib.org/api/_as_gen/matplotlib.pyplot.savefig.html)\n",
    "method, possibly calling\n",
    "[tight_layout](https://matplotlib.org/users/tight_layout_guide.html)\n",
    "command first if there is clipping.\n",
    "\n",
    "If you want to adjust the x-axis tick locations / labels, you can do it on the\n",
    "`ax` object returned as part of the plot:"
   ]
  },
  {
   "cell_type": "code",
   "execution_count": 12,
   "metadata": {},
   "outputs": [
    {
     "name": "stderr",
     "output_type": "stream",
     "text": [
      "/fh/fast/bloom_j/software/miniconda3/envs/BloomLab/lib/python3.8/site-packages/numpy/core/_asarray.py:83: UserWarning: Warning: converting a masked element to nan.\n",
      "  return array(a, dtype, copy=False, order=order)\n"
     ]
    },
    {
     "data": {
      "image/png": "[encoded data removed]",
      "text/plain": [
       "<Figure size 288x216 with 1 Axes>"
      ]
     },
     "metadata": {
      "needs_background": "light"
     },
     "output_type": "display_data"
    }
   ],
   "source": [
    "fig2, ax2 = curve.plot(xlabel='concentration (ug/ml)')\n",
    "_ = ax2.set_xticks([1e-3, 1e-2, 1e-1, 1, 10])\n",
    "_ = ax2.set_xticklabels(['-3', '-2', '-1', '0', '1'])\n",
    "_ = ax2.set_xlabel('log10 concentration')"
   ]
  }
 ],
 "metadata": {
  "language_info": {
   "codemirror_mode": {
    "name": "ipython",
    "version": 3
   },
   "file_extension": ".py",
   "mimetype": "text/x-python",
   "name": "python",
   "nbconvert_exporter": "python",
   "pygments_lexer": "ipython3",
   "version": "3.8.5"
  }
 },
 "nbformat": 4,
 "nbformat_minor": 4
}