{
 "cells": [
  {
   "cell_type": "markdown",
   "metadata": {},
   "source": [
    "# Hill-curve neutralization\n",
    "The neutralization curves fit by this package have a Hill-curve like form."
   ]
  },
  {
   "cell_type": "markdown",
   "metadata": {},
   "source": [
    "## Definition of curves\n",
    "The neutralization curve is fit to measurements of the fraction infectivity remaining $f\\left(c\\right)$ at several different serum concentrations $c$.\n",
    "The form for the curve is:\n",
    "$$f(c) = b + \\frac{t - b}{1 + (c/m)^s}$$\n",
    "where $m$ is the midpoint of the curve, $t$ is the \"top\" of the curve, $b$ is the bottom of the curve, and $s$ is the \"slope\" or Hill coefficient of the curve.\n",
    "\n",
    "If the curve spans from completely non-neutralized (100% infectivity remaining) to completely neutralized (0% infectivity remaining), then $t = 1$ and $b = 0$.\n",
    "In this case, the above equation is identical to 1 minus the [Hill equation defined on Wikipedia](https://en.wikipedia.org/wiki/Hill_equation_(biochemistry)).\n",
    "\n",
    "However, it will not always be the case that the top and bottom are at 1 and 0.\n",
    "The reason is that some antibodies and sera do not go to complete neutralization (see [here](https://doi.org/10.1371/journal.ppat.1005110) for a discussion of the phenomenon for HIV).\n",
    "For such antibodies, $b$ will in general by $>0$.\n",
    "Therefore, in the fitting you have the option of constraining the top and bottom to $t = 1$ and $b = 0$, or to fit them as free parameters.\n",
    "The default is to constrain the top to $t = 1$, but fit the bottom $b$ to allow for incomplete neutralization.\n",
    "\n",
    "Note also that in this definition of a curve, since $f\\left(c\\right)$ is the fraction **infectivity**, we expect $f\\left(c\\right)$ to get smaller as the antibody concentration increases.\n",
    "Just be aware that some papers will plot fraction neutralized rather than fraction infectivity; fraction neutralized is $1 - f\\left(c\\right)$."
   ]
  },
  {
   "cell_type": "markdown",
   "metadata": {},
   "source": [
    "## Fitting using the HillCurve class\n",
    "The curves are fit using the :mod:class:`hillcurve.HillCurve` class.\n",
    "Note that for fitting to actual data, you will typically want to instead use :mod:class:`curvefits.CurveFits`, which facilitates fitting to real data, particularly when there are multiple samples being fit at once.\n",
    "Nonetheless, here we illustrate the basic fitting to a single sample using :mod:class:`hillcurve.HillCurve`.\n",
    "\n",
    "First, we import the requisite Python modules:"
   ]
  },
  {
   "cell_type": "code",
   "execution_count": 1,
   "metadata": {},
   "outputs": [],
   "source": [
    "import urllib.request\n",
    "\n",
    "import pandas as pd\n",
    "\n",
    "import neutcurve"
   ]
  },
  {
   "cell_type": "markdown",
   "metadata": {},
   "source": [
    "Now we get example data to plot.\n",
    "We use as our example the neutralization of wildtype (WT) A/WSN/1933 (H1N1) influenza by the broadly neutralizing antibody FI6v3 as determined in [Fig 6a of Doud et al (2018)](https://www.nature.com/articles/s41467-018-03665-3#Fig6).\n",
    "The numerical data in that figure in tidy form are [available here](https://github.com/jbloomlab/neutcurve/blob/master/docs/examples/data/Doud_et_al-FI6v3-neutdata.csv); we download the data and get just the measurements for replicate 1 of the wildtype virus against FI6v3:"
   ]
  },
  {
   "cell_type": "code",
   "execution_count": 2,
   "metadata": {},
   "outputs": [
    {
     "data": {
      "text/html": [
       "<div>\n",
       "<style scoped>\n",
       "    .dataframe tbody tr th:only-of-type {\n",
       "        vertical-align: middle;\n",
       "    }\n",
       "\n",
       "    .dataframe tbody tr th {\n",
       "        vertical-align: top;\n",
       "    }\n",
       "\n",
       "    .dataframe thead th {\n",
       "        text-align: right;\n",
       "    }\n",
       "</style>\n",
       "<table border=\"1\" class=\"dataframe\">\n",
       "  <thead>\n",
       "    <tr style=\"text-align: right;\">\n",
       "      <th></th>\n",
       "      <th>concentration</th>\n",
       "      <th>fraction infectivity</th>\n",
       "    </tr>\n",
       "  </thead>\n",
       "  <tbody>\n",
       "    <tr>\n",
       "      <th>0</th>\n",
       "      <td>0.000205</td>\n",
       "      <td>1.013734</td>\n",
       "    </tr>\n",
       "    <tr>\n",
       "      <th>1</th>\n",
       "      <td>0.000478</td>\n",
       "      <td>0.942012</td>\n",
       "    </tr>\n",
       "    <tr>\n",
       "      <th>2</th>\n",
       "      <td>0.001115</td>\n",
       "      <td>0.992850</td>\n",
       "    </tr>\n",
       "    <tr>\n",
       "      <th>3</th>\n",
       "      <td>0.002602</td>\n",
       "      <td>0.966206</td>\n",
       "    </tr>\n",
       "    <tr>\n",
       "      <th>4</th>\n",
       "      <td>0.006071</td>\n",
       "      <td>0.956703</td>\n",
       "    </tr>\n",
       "    <tr>\n",
       "      <th>5</th>\n",
       "      <td>0.014165</td>\n",
       "      <td>0.586331</td>\n",
       "    </tr>\n",
       "    <tr>\n",
       "      <th>6</th>\n",
       "      <td>0.033052</td>\n",
       "      <td>0.169449</td>\n",
       "    </tr>\n",
       "    <tr>\n",
       "      <th>7</th>\n",
       "      <td>0.077122</td>\n",
       "      <td>0.014132</td>\n",
       "    </tr>\n",
       "    <tr>\n",
       "      <th>8</th>\n",
       "      <td>0.179952</td>\n",
       "      <td>-0.025386</td>\n",
       "    </tr>\n",
       "    <tr>\n",
       "      <th>9</th>\n",
       "      <td>0.419888</td>\n",
       "      <td>-0.032550</td>\n",
       "    </tr>\n",
       "    <tr>\n",
       "      <th>10</th>\n",
       "      <td>0.979739</td>\n",
       "      <td>-0.036670</td>\n",
       "    </tr>\n",
       "    <tr>\n",
       "      <th>11</th>\n",
       "      <td>2.286057</td>\n",
       "      <td>-0.028770</td>\n",
       "    </tr>\n",
       "  </tbody>\n",
       "</table>\n",
       "</div>"
      ],
      "text/plain": [
       "    concentration  fraction infectivity\n",
       "0        0.000205              1.013734\n",
       "1        0.000478              0.942012\n",
       "2        0.001115              0.992850\n",
       "3        0.002602              0.966206\n",
       "4        0.006071              0.956703\n",
       "5        0.014165              0.586331\n",
       "6        0.033052              0.169449\n",
       "7        0.077122              0.014132\n",
       "8        0.179952             -0.025386\n",
       "9        0.419888             -0.032550\n",
       "10       0.979739             -0.036670\n",
       "11       2.286057             -0.028770"
      ]
     },
     "execution_count": 2,
     "metadata": {},
     "output_type": "execute_result"
    }
   ],
   "source": [
    "fi6v3_datafile = ('https://raw.githubusercontent.com/jbloomlab/neutcurve/'\n",
    "                  'master/docs/examples/data/Doud_et_al-FI6v3-neutdata.csv')\n",
    "\n",
    "with urllib.request.urlopen(fi6v3_datafile) as f:\n",
    "    data = (pd.read_csv(f)\n",
    "            .query('(serum == \"FI6v3\") & (virus == \"WT\") & (replicate == \"1\")')\n",
    "            [['concentration', 'fraction infectivity']]\n",
    "            .reset_index(drop=True)\n",
    "            )\n",
    "\n",
    "data"
   ]
  },
  {
   "cell_type": "markdown",
   "metadata": {},
   "source": [
    "As can be seen above, the data give the fraction activity at each antibody concentration (which in this case is in $\\mu$g/ml).\n",
    "\n",
    "Now we initialize a :mod:class:`hillcurve.HillCurve` with these data, which fits the curve:"
   ]
  },
  {
   "cell_type": "code",
   "execution_count": 3,
   "metadata": {},
   "outputs": [],
   "source": [
    "curve = neutcurve.HillCurve(data['concentration'],\n",
    "                            data['fraction infectivity'])"
   ]
  },
  {
   "cell_type": "markdown",
   "metadata": {},
   "source": [
    "We can now look at the values of each of the four parameters that define the curve:"
   ]
  },
  {
   "cell_type": "code",
   "execution_count": 4,
   "metadata": {},
   "outputs": [
    {
     "name": "stdout",
     "output_type": "stream",
     "text": [
      "The top (t) is 1\n",
      "The bottom (b) is -0.0282\n",
      "The midpoint (m) is 0.0173\n",
      "The slope (Hill coefficient)s is 2.33\n"
     ]
    }
   ],
   "source": [
    "print(f\"The top (t) is {curve.top:.3g}\")\n",
    "print(f\"The bottom (b) is {curve.bottom:.3g}\")\n",
    "print(f\"The midpoint (m) is {curve.midpoint:.3g}\")\n",
    "print(f\"The slope (Hill coefficient)s is {curve.slope:.3g}\")"
   ]
  },
  {
   "cell_type": "markdown",
   "metadata": {},
   "source": [
    "Note that the top is exactly 1 because by default it is constrained to that value, whereas the bottom is not quite zero because it is treated a free parameter.\n",
    "If you want to change whether the top and/or bottom are fixed or fit, you can do that using the `fixtop` and `fixbottom` arguments to :mod:class:`hillcurve.HillCurve` as described in the docs for that class.\n",
    "For instance, here we fit the top and fix the bottom (it makes very little difference for this particular dataset):"
   ]
  },
  {
   "cell_type": "code",
   "execution_count": 5,
   "metadata": {},
   "outputs": [
    {
     "name": "stdout",
     "output_type": "stream",
     "text": [
      "The top (t) is 0.987\n",
      "The bottom (b) is 0\n",
      "The midpoint (m) is 0.0169\n",
      "The slope (Hill coefficient)s is 2.57\n"
     ]
    }
   ],
   "source": [
    "curve2 = neutcurve.HillCurve(data['concentration'],\n",
    "                             data['fraction infectivity'],\n",
    "                             fixbottom=0,\n",
    "                             fixtop=False)\n",
    "\n",
    "print(f\"The top (t) is {curve2.top:.3g}\")\n",
    "print(f\"The bottom (b) is {curve2.bottom:.3g}\")\n",
    "print(f\"The midpoint (m) is {curve2.midpoint:.3g}\")\n",
    "print(f\"The slope (Hill coefficient)s is {curve2.slope:.3g}\")"
   ]
  },
  {
   "cell_type": "markdown",
   "metadata": {},
   "source": [
    "We can also get the IC50, which is the concentration where $f\\left(c\\right) = 0.5$.\n",
    "The IC50 will be equal to the midpoint $m$ when the top ($t$) is one and the bottom ($b$) is zero, but otherwise it may be different than the IC50.\n",
    "For this particular dataset, the IC50 is very close to the midpoint:"
   ]
  },
  {
   "cell_type": "code",
   "execution_count": 6,
   "metadata": {},
   "outputs": [
    {
     "name": "stdout",
     "output_type": "stream",
     "text": [
      "The IC50 is 0.0169\n"
     ]
    }
   ],
   "source": [
    "print(f\"The IC50 is {curve.ic50():.3g}\")"
   ]
  },
  {
   "cell_type": "markdown",
   "metadata": {},
   "source": [
    "Note that the method for getting the IC50 (:mod:meth:`hillcurve.HillCurve.ic50`) has some different options for how to handle computing the IC50 if it doesn't fall within the range of the provided concentrations and so cannot be interpolated (see the docs for that method for details).\n",
    "This doesn't matter for this particular dataset, however, since the IC50 falls within the range of the data.\n",
    "\n",
    "We can plot the neutralization curve using the :mod:meth:`hillcurve.HillCurve.plot` function.\n",
    "This returns a matplotlib figure and axis instance:"
   ]
  },
  {
   "cell_type": "code",
   "execution_count": 7,
   "metadata": {},
   "outputs": [
    {
     "data": {
      "image/png": "[encoded data removed]",
      "text/plain": [
       "<Figure size 288x216 with 1 Axes>"
      ]
     },
     "metadata": {
      "needs_background": "light"
     },
     "output_type": "display_data"
    }
   ],
   "source": [
    "fig, ax = curve.plot(xlabel='concentration (ug/ml)')"
   ]
  },
  {
   "cell_type": "markdown",
   "metadata": {},
   "source": [
    "If you want to save the figure, do this using its [savefig](https://matplotlib.org/api/_as_gen/matplotlib.pyplot.savefig.html) method, possibly calling [tight_layout](https://matplotlib.org/users/tight_layout_guide.html) command first if there is clipping."
   ]
  }
 ],
 "metadata": {
  "kernelspec": {
   "display_name": "Python 3",
   "language": "python",
   "name": "python3"
  },
  "language_info": {
   "codemirror_mode": {
    "name": "ipython",
    "version": 3
   },
   "file_extension": ".py",
   "mimetype": "text/x-python",
   "name": "python",
   "nbconvert_exporter": "python",
   "pygments_lexer": "ipython3",
   "version": "3.6.7"
  }
 },
 "nbformat": 4,
 "nbformat_minor": 2
}
