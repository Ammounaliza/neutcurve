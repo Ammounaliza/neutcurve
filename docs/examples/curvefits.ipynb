{
 "cells": [
  {
   "cell_type": "markdown",
   "metadata": {},
   "source": [
    "# Fitting neutralization curves\n",
    "Here we describe how to use the :mod:class:`neutcurve.CurveFits` class to fit a set of :mod:class:`hillcurve.HillCurve` neutralization curves to data."
   ]
  },
  {
   "cell_type": "markdown",
   "metadata": {},
   "source": [
    "## Importing the necessary packages\n",
    "First, import the necessary Python modules.\n",
    "In addition to the `neutcurve` package itself, we also use [pandas](https://pandas.pydata.org/) to hold the data:"
   ]
  },
  {
   "cell_type": "code",
   "execution_count": 1,
   "metadata": {},
   "outputs": [],
   "source": [
    "import urllib.request\n",
    "\n",
    "import pandas as pd\n",
    "\n",
    "import neutcurve\n",
    "from neutcurve.colorschemes import CBPALETTE, CBMARKERS"
   ]
  },
  {
   "cell_type": "markdown",
   "metadata": {},
   "source": [
    "## The neutralization data to fit\n",
    "Now we get example data to fit.\n",
    "We use as our example the neutralization of variants A/WSN/1933 (H1N1) influenza by the broadly neutralizing antibody FI6v3 from [Fig 6a of Doud et al (2018)](https://www.nature.com/articles/s41467-018-03665-3#Fig6).\n",
    "These data in numerical form in a CSV file are [available here](https://github.com/jbloomlab/neutcurve/blob/master/docs/examples/data/Doud_et_al-FI6v3-neutdata.csv).\n",
    "We start by downloading these data and reading them into a pandas DataFrame:"
   ]
  },
  {
   "cell_type": "code",
   "execution_count": 2,
   "metadata": {},
   "outputs": [],
   "source": [
    "fi6v3_datafile = ('https://raw.githubusercontent.com/jbloomlab/neutcurve/'\n",
    "                  'master/docs/examples/data/Doud_et_al-FI6v3-neutdata.csv')\n",
    "\n",
    "with urllib.request.urlopen(fi6v3_datafile) as f:\n",
    "    data = pd.read_csv(f)"
   ]
  },
  {
   "cell_type": "markdown",
   "metadata": {},
   "source": [
    "Here are the first few lines of the data frame:"
   ]
  },
  {
   "cell_type": "code",
   "execution_count": 3,
   "metadata": {},
   "outputs": [
    {
     "data": {
      "text/html": [
       "<div>\n",
       "<style scoped>\n",
       "    .dataframe tbody tr th:only-of-type {\n",
       "        vertical-align: middle;\n",
       "    }\n",
       "\n",
       "    .dataframe tbody tr th {\n",
       "        vertical-align: top;\n",
       "    }\n",
       "\n",
       "    .dataframe thead th {\n",
       "        text-align: right;\n",
       "    }\n",
       "</style>\n",
       "<table border=\"1\" class=\"dataframe\">\n",
       "  <thead>\n",
       "    <tr style=\"text-align: right;\">\n",
       "      <th></th>\n",
       "      <th>serum</th>\n",
       "      <th>virus</th>\n",
       "      <th>replicate</th>\n",
       "      <th>concentration</th>\n",
       "      <th>fraction infectivity</th>\n",
       "    </tr>\n",
       "  </thead>\n",
       "  <tbody>\n",
       "    <tr>\n",
       "      <th>0</th>\n",
       "      <td>FI6v3</td>\n",
       "      <td>WT</td>\n",
       "      <td>1</td>\n",
       "      <td>0.000205</td>\n",
       "      <td>1.013734</td>\n",
       "    </tr>\n",
       "    <tr>\n",
       "      <th>1</th>\n",
       "      <td>FI6v3</td>\n",
       "      <td>WT</td>\n",
       "      <td>1</td>\n",
       "      <td>0.000478</td>\n",
       "      <td>0.942012</td>\n",
       "    </tr>\n",
       "    <tr>\n",
       "      <th>2</th>\n",
       "      <td>FI6v3</td>\n",
       "      <td>WT</td>\n",
       "      <td>1</td>\n",
       "      <td>0.001115</td>\n",
       "      <td>0.992850</td>\n",
       "    </tr>\n",
       "    <tr>\n",
       "      <th>3</th>\n",
       "      <td>FI6v3</td>\n",
       "      <td>WT</td>\n",
       "      <td>1</td>\n",
       "      <td>0.002602</td>\n",
       "      <td>0.966206</td>\n",
       "    </tr>\n",
       "    <tr>\n",
       "      <th>4</th>\n",
       "      <td>FI6v3</td>\n",
       "      <td>WT</td>\n",
       "      <td>1</td>\n",
       "      <td>0.006071</td>\n",
       "      <td>0.956703</td>\n",
       "    </tr>\n",
       "  </tbody>\n",
       "</table>\n",
       "</div>"
      ],
      "text/plain": [
       "   serum virus  replicate  concentration  fraction infectivity\n",
       "0  FI6v3    WT          1       0.000205              1.013734\n",
       "1  FI6v3    WT          1       0.000478              0.942012\n",
       "2  FI6v3    WT          1       0.001115              0.992850\n",
       "3  FI6v3    WT          1       0.002602              0.966206\n",
       "4  FI6v3    WT          1       0.006071              0.956703"
      ]
     },
     "execution_count": 3,
     "metadata": {},
     "output_type": "execute_result"
    }
   ],
   "source": [
    "data.head()"
   ]
  },
  {
   "cell_type": "markdown",
   "metadata": {},
   "source": [
    "And here are the last few lines:"
   ]
  },
  {
   "cell_type": "code",
   "execution_count": 4,
   "metadata": {},
   "outputs": [
    {
     "data": {
      "text/html": [
       "<div>\n",
       "<style scoped>\n",
       "    .dataframe tbody tr th:only-of-type {\n",
       "        vertical-align: middle;\n",
       "    }\n",
       "\n",
       "    .dataframe tbody tr th {\n",
       "        vertical-align: top;\n",
       "    }\n",
       "\n",
       "    .dataframe thead th {\n",
       "        text-align: right;\n",
       "    }\n",
       "</style>\n",
       "<table border=\"1\" class=\"dataframe\">\n",
       "  <thead>\n",
       "    <tr style=\"text-align: right;\">\n",
       "      <th></th>\n",
       "      <th>serum</th>\n",
       "      <th>virus</th>\n",
       "      <th>replicate</th>\n",
       "      <th>concentration</th>\n",
       "      <th>fraction infectivity</th>\n",
       "    </tr>\n",
       "  </thead>\n",
       "  <tbody>\n",
       "    <tr>\n",
       "      <th>355</th>\n",
       "      <td>FI6v3</td>\n",
       "      <td>G47R-HA2</td>\n",
       "      <td>3</td>\n",
       "      <td>0.077122</td>\n",
       "      <td>0.063935</td>\n",
       "    </tr>\n",
       "    <tr>\n",
       "      <th>356</th>\n",
       "      <td>FI6v3</td>\n",
       "      <td>G47R-HA2</td>\n",
       "      <td>3</td>\n",
       "      <td>0.179952</td>\n",
       "      <td>-0.010571</td>\n",
       "    </tr>\n",
       "    <tr>\n",
       "      <th>357</th>\n",
       "      <td>FI6v3</td>\n",
       "      <td>G47R-HA2</td>\n",
       "      <td>3</td>\n",
       "      <td>0.419888</td>\n",
       "      <td>-0.021508</td>\n",
       "    </tr>\n",
       "    <tr>\n",
       "      <th>358</th>\n",
       "      <td>FI6v3</td>\n",
       "      <td>G47R-HA2</td>\n",
       "      <td>3</td>\n",
       "      <td>0.979739</td>\n",
       "      <td>-0.025734</td>\n",
       "    </tr>\n",
       "    <tr>\n",
       "      <th>359</th>\n",
       "      <td>FI6v3</td>\n",
       "      <td>G47R-HA2</td>\n",
       "      <td>3</td>\n",
       "      <td>2.286057</td>\n",
       "      <td>-0.027638</td>\n",
       "    </tr>\n",
       "  </tbody>\n",
       "</table>\n",
       "</div>"
      ],
      "text/plain": [
       "     serum     virus  replicate  concentration  fraction infectivity\n",
       "355  FI6v3  G47R-HA2          3       0.077122              0.063935\n",
       "356  FI6v3  G47R-HA2          3       0.179952             -0.010571\n",
       "357  FI6v3  G47R-HA2          3       0.419888             -0.021508\n",
       "358  FI6v3  G47R-HA2          3       0.979739             -0.025734\n",
       "359  FI6v3  G47R-HA2          3       2.286057             -0.027638"
      ]
     },
     "execution_count": 4,
     "metadata": {},
     "output_type": "execute_result"
    }
   ],
   "source": [
    "data.tail()"
   ]
  },
  {
   "cell_type": "markdown",
   "metadata": {},
   "source": [
    "As can be seen above, the data are organized into five columns, all of which must be present.\n",
    "These columns are:\n",
    "  - *serum*: the name of the serum (or antibody). We can have several, but in this example there is just one.\n",
    "    FI6v3 is actually an antibody, not a serum--but :mod:class:`neutcurve.CurveFits` is set up to refer to things as serum, so here we'll call it a \"serum\".\n",
    "  - *virus*: the name of the virus being neutralized by the serum.\n",
    "  - *replicate*: the replicate label for the measurement. Although you can have just one replicate, it's good experimental practice to have several.\n",
    "    All the replicates for a given virus / serum combination must have been measured at the same concentrations.\n",
    "  - *concentration*: the concentration of the serum.\n",
    "  - *fraction infectivity*: the fraction infectivity of the virus at this concentration of the serum measured in this replicate.\n",
    "  \n",
    "Note that the data are in [tidy form](https://cran.r-project.org/web/packages/tidyr/vignettes/tidy-data.html); you must make your data frame tidy before you can analyze it with :mod:class:`neutcurve.CurveFits`. "
   ]
  },
  {
   "cell_type": "markdown",
   "metadata": {},
   "source": [
    "## Fitting the curves\n",
    "Once you have the tidy data frame, it's easy to pass it to :mod:class:`neutcurve.CurveFits`:"
   ]
  },
  {
   "cell_type": "code",
   "execution_count": null,
   "metadata": {},
   "outputs": [],
   "source": [
    "fits = neutcurve.CurveFits(data)"
   ]
  },
  {
   "cell_type": "markdown",
   "metadata": {},
   "source": [
    "Note that :mod:class:`neutcurve.CurveFits` has the same `fixtop` and `fixbottom` arguments as described for a :mod:class:`hillcurve.HillCurve` in the previous section; it also has arguments that all you to name the columns in data something else (for instance, you can set `serum_col='antibody'` if your data frame lists antibodies instead of sera).\n",
    "\n",
    "Now we can look at the different sera for which we have fit curves (in this case it's just FI6v3):"
   ]
  },
  {
   "cell_type": "code",
   "execution_count": null,
   "metadata": {},
   "outputs": [
    {
     "data": {
      "text/plain": [
       "['FI6v3']"
      ]
     },
     "execution_count": 6,
     "metadata": {},
     "output_type": "execute_result"
    }
   ],
   "source": [
    "fits.sera"
   ]
  },
  {
   "cell_type": "markdown",
   "metadata": {},
   "source": [
    "We can also look at the viruses measured against each serum.\n",
    "Here we do this for \"serum\" FI6v3:"
   ]
  },
  {
   "cell_type": "code",
   "execution_count": null,
   "metadata": {},
   "outputs": [
    {
     "name": "stdout",
     "output_type": "stream",
     "text": [
      "Viruses measured against FI6v3:\n",
      "['WT', 'K(-8T)', 'P80D', 'V135T', 'K280A', 'K280S', 'K280T', 'N291S', 'M17L-HA2', 'G47R-HA2']\n"
     ]
    }
   ],
   "source": [
    "for serum in fits.sera:\n",
    "    print(f\"Viruses measured against {serum}:\")\n",
    "    print(fits.viruses[serum])"
   ]
  },
  {
   "cell_type": "markdown",
   "metadata": {},
   "source": [
    "We can also look at the replicates for each serum and virus.\n",
    "Here we just do that for serum *FI6v3* and virus *WT*.\n",
    "See how in addition to the three replicates we have passed, there is also now an \"average\" replicate that is computed from the average of the other replicates:"
   ]
  },
  {
   "cell_type": "code",
   "execution_count": null,
   "metadata": {},
   "outputs": [
    {
     "data": {
      "text/plain": [
       "['1', '2', '3', 'average']"
      ]
     },
     "execution_count": 8,
     "metadata": {},
     "output_type": "execute_result"
    }
   ],
   "source": [
    "fits.replicates[('FI6v3', 'WT')]"
   ]
  },
  {
   "cell_type": "markdown",
   "metadata": {},
   "source": [
    "We can use the :mod:class:`curvefits.CurveFits.getHillCurve` method to get the fit for a particular\n",
    "serum / virus / replicate combination.\n",
    "For instance, here we do that for *serum* FI6v3 versus *virus* WT, *replicate* 1.\n",
    "We then plot the curve and get the IC50:"
   ]
  },
  {
   "cell_type": "code",
   "execution_count": null,
   "metadata": {},
   "outputs": [
    {
     "name": "stdout",
     "output_type": "stream",
     "text": [
      "The IC50 is 0.0169\n"
     ]
    },
    {
     "data": {
      "image/png": "[encoded data removed]",
      "text/plain": [
       "<Figure size 288x216 with 1 Axes>"
      ]
     },
     "metadata": {
      "needs_background": "light"
     },
     "output_type": "display_data"
    }
   ],
   "source": [
    "curve = fits.getHillCurve(serum='FI6v3', virus='WT', replicate='1')\n",
    "print(f\"The IC50 is {curve.ic50():.3g}\")\n",
    "fig, ax = curve.plot()"
   ]
  },
  {
   "cell_type": "markdown",
   "metadata": {},
   "source": [
    "The :mod:class:`curvefits.CurveFits` also calculates the average and standard deviation of the measurements for each serum / virus, and fits them under a replicate name of \"average\".\n",
    "So here is the fit to the average of the data for *serum* FI6v3 and *virus* WT.\n",
    "Note how the plot now also shows error bars indicating the standard deviation:"
   ]
  },
  {
   "cell_type": "code",
   "execution_count": null,
   "metadata": {},
   "outputs": [
    {
     "name": "stdout",
     "output_type": "stream",
     "text": [
      "The IC50 is 0.0162\n"
     ]
    },
    {
     "data": {
      "image/png": "[encoded data removed]",
      "text/plain": [
       "<Figure size 288x216 with 1 Axes>"
      ]
     },
     "metadata": {
      "needs_background": "light"
     },
     "output_type": "display_data"
    }
   ],
   "source": [
    "curve = fits.getHillCurve(serum='FI6v3', virus='WT', replicate='average')\n",
    "print(f\"The IC50 is {curve.ic50():.3g}\")\n",
    "fig, ax = curve.plot()"
   ]
  },
  {
   "cell_type": "markdown",
   "metadata": {},
   "source": [
    "## Plotting the curves\n",
    "[Fig 6a of Doud et al (2018)](https://www.nature.com/articles/s41467-018-03665-3#Fig6).\n",
    "\n",
    "We use the colors and markers defined in :mod:`neutcurve.colorschemes`"
   ]
  },
  {
   "cell_type": "code",
   "execution_count": null,
   "metadata": {},
   "outputs": [],
   "source": [
    "fig, axes = fits.plotGrid(\n",
    "                {\n",
    "                 # upper right: WT, K280S, K280T, K280A\n",
    "                 (0, 0): ('FI6v3',\n",
    "                          [{'serum': 'FI6v3', 'virus': 'WT',\n",
    "                            'replicate': 'average', 'color': CBPALETTE[0],\n",
    "                            'marker': CBMARKERS[0], 'label':'WT'},\n",
    "                           {'serum': 'FI6v3', 'virus': 'K280S',\n",
    "                            'replicate': 'average', 'color': CBPALETTE[1],\n",
    "                            'marker': CBMARKERS[1], 'label':'K280S'},\n",
    "                           {'serum': 'FI6v3', 'virus': 'K280T',\n",
    "                            'replicate': 'average', 'color': CBPALETTE[2],\n",
    "                            'marker': CBMARKERS[2], 'label':'K280T'},\n",
    "                           {'serum': 'FI6v3', 'virus': 'K280A',\n",
    "                            'replicate': 'average', 'color': CBPALETTE[3],\n",
    "                            'marker': CBMARKERS[3], 'label':'K280A'},\n",
    "                           ]\n",
    "                          ),\n",
    "                 # upper center: WT, N291S\n",
    "                 (0, 1): ('FI6v3',\n",
    "                          [{'serum': 'FI6v3', 'virus': 'WT',\n",
    "                            'replicate': 'average', 'color': CBPALETTE[0],\n",
    "                            'marker': CBMARKERS[0], 'label': 'WT'},\n",
    "                           {'serum': 'FI6v3', 'virus': 'N291S',\n",
    "                            'replicate': 'average', 'color': CBPALETTE[1],\n",
    "                            'marker': CBMARKERS[1], 'label': 'N291S'},\n",
    "                           ]\n",
    "                          ),\n",
    "                 # upper right: WT, G47R-HA2\n",
    "                 (0, 2): ('FI6v3',\n",
    "                          [{'serum': 'FI6v3', 'virus': 'WT',\n",
    "                            'replicate': 'average', 'color': CBPALETTE[0],\n",
    "                            'marker': CBMARKERS[0], 'label': 'WT'},\n",
    "                           {'serum': 'FI6v3', 'virus': 'G47R-HA2',\n",
    "                            'replicate': 'average', 'color': CBPALETTE[1],\n",
    "                            'marker': CBMARKERS[1], 'label': 'G47R(HA2)'},\n",
    "                           ]\n",
    "                          ),\n",
    "                 # lower right: WT, K(-8T)\n",
    "                 (1, 0): ('FI6v3',\n",
    "                          [{'serum': 'FI6v3', 'virus': 'WT',\n",
    "                            'replicate': 'average', 'color': CBPALETTE[0],\n",
    "                            'marker': CBMARKERS[0], 'label': 'WT'},\n",
    "                           {'serum': 'FI6v3', 'virus': 'K(-8T)',\n",
    "                            'replicate': 'average', 'color': CBPALETTE[1],\n",
    "                            'marker': CBMARKERS[1], 'label': 'K(-8T)'},\n",
    "                           ]\n",
    "                          ),\n",
    "                 # lower center: WT, M17L-HA2\n",
    "                 (1, 1): ('FI6v3',\n",
    "                          [{'serum': 'FI6v3', 'virus': 'WT',\n",
    "                            'replicate': 'average', 'color': CBPALETTE[0],\n",
    "                            'marker': CBMARKERS[0], 'label': 'WT'},\n",
    "                           {'serum': 'FI6v3', 'virus': 'M17L-HA2',\n",
    "                            'replicate': 'average', 'color': CBPALETTE[1],\n",
    "                            'marker': CBMARKERS[1], 'label': 'M17L(HA2)'},\n",
    "                           ]\n",
    "                          ),\n",
    "                 # lower right: WT, P80D, V135T\n",
    "                 (1, 2): ('FI6v3',\n",
    "                          [{'serum': 'FI6v3', 'virus': 'WT',\n",
    "                            'replicate': 'average', 'color': CBPALETTE[0],\n",
    "                            'marker': CBMARKERS[0], 'label': 'WT'},\n",
    "                           {'serum': 'FI6v3', 'virus': 'P80D',\n",
    "                            'replicate': 'average', 'color': CBPALETTE[1],\n",
    "                            'marker': CBMARKERS[1], 'label': 'P80D'},\n",
    "                           {'serum': 'FI6v3', 'virus': 'V135T',\n",
    "                            'replicate': 'average', 'color': CBPALETTE[2],\n",
    "                            'marker': CBMARKERS[2], 'label': 'V135T'},\n",
    "                           ]\n",
    "                          ),\n",
    "                 }\n",
    "                )"
   ]
  }
 ],
 "metadata": {
  "kernelspec": {
   "display_name": "Python 3",
   "language": "python",
   "name": "python3"
  },
  "language_info": {
   "codemirror_mode": {
    "name": "ipython",
    "version": 3
   },
   "file_extension": ".py",
   "mimetype": "text/x-python",
   "name": "python",
   "nbconvert_exporter": "python",
   "pygments_lexer": "ipython3",
   "version": "3.6.7"
  }
 },
 "nbformat": 4,
 "nbformat_minor": 2
}
