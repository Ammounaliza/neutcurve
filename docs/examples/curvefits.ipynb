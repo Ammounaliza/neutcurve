{
 "cells": [
  {
   "cell_type": "markdown",
   "metadata": {},
   "source": [
    "# Fitting neutralization curves\n",
    "Here we describe how to use the :mod:class:`neutcurve.CurveFits` class to fit a set of :mod:class:`hillcurve.HillCurve` neutralization curves to data."
   ]
  },
  {
   "cell_type": "markdown",
   "metadata": {},
   "source": [
    "## Importing the necessary packages\n",
    "First, import the necessary Python modules.\n",
    "In addition to the `neutcurve` package itself, we also use [pandas](https://pandas.pydata.org/) to hold the data:"
   ]
  },
  {
   "cell_type": "code",
   "execution_count": 1,
   "metadata": {},
   "outputs": [],
   "source": [
    "import urllib.request\n",
    "\n",
    "import pandas as pd\n",
    "\n",
    "import neutcurve\n",
    "from neutcurve.colorschemes import CBMARKERS, CBPALETTE"
   ]
  },
  {
   "cell_type": "markdown",
   "metadata": {},
   "source": [
    "Set some pandas display options:"
   ]
  },
  {
   "cell_type": "code",
   "execution_count": 2,
   "metadata": {},
   "outputs": [],
   "source": [
    "pd.set_option('display.float_format', '{:.3g}'.format)"
   ]
  },
  {
   "cell_type": "markdown",
   "metadata": {},
   "source": [
    "## The neutralization data to fit\n",
    "Now we get example data to fit.\n",
    "We use as our example the neutralization of variants A/WSN/1933 (H1N1) influenza by the broadly neutralizing antibody FI6v3 and strain-specific antibody H17-L19 from [Fig 6a,b of Doud et al (2018)](https://www.nature.com/articles/s41467-018-03665-3#Fig6).\n",
    "These data in numerical form in a CSV file are [available here](https://github.com/jbloomlab/neutcurve/blob/master/docs/examples/data/Doud_et_al_2018-neutdata.csv).\n",
    "We start by downloading these data and reading them into a pandas DataFrame:"
   ]
  },
  {
   "cell_type": "code",
   "execution_count": 3,
   "metadata": {},
   "outputs": [],
   "source": [
    "fi6v3_datafile = ('https://raw.githubusercontent.com/jbloomlab/neutcurve/'\n",
    "                  'master/docs/examples/data/Doud_et_al_2018-neutdata.csv')\n",
    "\n",
    "with urllib.request.urlopen(fi6v3_datafile) as f:\n",
    "    data = pd.read_csv(f)"
   ]
  },
  {
   "cell_type": "markdown",
   "metadata": {},
   "source": [
    "Here are the first few lines of the data frame:"
   ]
  },
  {
   "cell_type": "code",
   "execution_count": 4,
   "metadata": {},
   "outputs": [
    {
     "data": {
      "text/html": [
       "<div>\n",
       "<style scoped>\n",
       "    .dataframe tbody tr th:only-of-type {\n",
       "        vertical-align: middle;\n",
       "    }\n",
       "\n",
       "    .dataframe tbody tr th {\n",
       "        vertical-align: top;\n",
       "    }\n",
       "\n",
       "    .dataframe thead th {\n",
       "        text-align: right;\n",
       "    }\n",
       "</style>\n",
       "<table border=\"1\" class=\"dataframe\">\n",
       "  <thead>\n",
       "    <tr style=\"text-align: right;\">\n",
       "      <th></th>\n",
       "      <th>serum</th>\n",
       "      <th>virus</th>\n",
       "      <th>replicate</th>\n",
       "      <th>concentration</th>\n",
       "      <th>fraction infectivity</th>\n",
       "    </tr>\n",
       "  </thead>\n",
       "  <tbody>\n",
       "    <tr>\n",
       "      <th>0</th>\n",
       "      <td>FI6v3</td>\n",
       "      <td>WT</td>\n",
       "      <td>1</td>\n",
       "      <td>0.000205</td>\n",
       "      <td>1.01</td>\n",
       "    </tr>\n",
       "    <tr>\n",
       "      <th>1</th>\n",
       "      <td>FI6v3</td>\n",
       "      <td>WT</td>\n",
       "      <td>1</td>\n",
       "      <td>0.000478</td>\n",
       "      <td>0.942</td>\n",
       "    </tr>\n",
       "    <tr>\n",
       "      <th>2</th>\n",
       "      <td>FI6v3</td>\n",
       "      <td>WT</td>\n",
       "      <td>1</td>\n",
       "      <td>0.00112</td>\n",
       "      <td>0.993</td>\n",
       "    </tr>\n",
       "    <tr>\n",
       "      <th>3</th>\n",
       "      <td>FI6v3</td>\n",
       "      <td>WT</td>\n",
       "      <td>1</td>\n",
       "      <td>0.0026</td>\n",
       "      <td>0.966</td>\n",
       "    </tr>\n",
       "    <tr>\n",
       "      <th>4</th>\n",
       "      <td>FI6v3</td>\n",
       "      <td>WT</td>\n",
       "      <td>1</td>\n",
       "      <td>0.00607</td>\n",
       "      <td>0.957</td>\n",
       "    </tr>\n",
       "  </tbody>\n",
       "</table>\n",
       "</div>"
      ],
      "text/plain": [
       "   serum virus  replicate  concentration  fraction infectivity\n",
       "0  FI6v3    WT          1       0.000205                  1.01\n",
       "1  FI6v3    WT          1       0.000478                 0.942\n",
       "2  FI6v3    WT          1        0.00112                 0.993\n",
       "3  FI6v3    WT          1         0.0026                 0.966\n",
       "4  FI6v3    WT          1        0.00607                 0.957"
      ]
     },
     "execution_count": 4,
     "metadata": {},
     "output_type": "execute_result"
    }
   ],
   "source": [
    "data.head()"
   ]
  },
  {
   "cell_type": "markdown",
   "metadata": {},
   "source": [
    "And here are the last few lines:"
   ]
  },
  {
   "cell_type": "code",
   "execution_count": 5,
   "metadata": {},
   "outputs": [
    {
     "data": {
      "text/html": [
       "<div>\n",
       "<style scoped>\n",
       "    .dataframe tbody tr th:only-of-type {\n",
       "        vertical-align: middle;\n",
       "    }\n",
       "\n",
       "    .dataframe tbody tr th {\n",
       "        vertical-align: top;\n",
       "    }\n",
       "\n",
       "    .dataframe thead th {\n",
       "        text-align: right;\n",
       "    }\n",
       "</style>\n",
       "<table border=\"1\" class=\"dataframe\">\n",
       "  <thead>\n",
       "    <tr style=\"text-align: right;\">\n",
       "      <th></th>\n",
       "      <th>serum</th>\n",
       "      <th>virus</th>\n",
       "      <th>replicate</th>\n",
       "      <th>concentration</th>\n",
       "      <th>fraction infectivity</th>\n",
       "    </tr>\n",
       "  </thead>\n",
       "  <tbody>\n",
       "    <tr>\n",
       "      <th>427</th>\n",
       "      <td>H17-L19</td>\n",
       "      <td>V135T</td>\n",
       "      <td>3</td>\n",
       "      <td>0.386</td>\n",
       "      <td>1.02</td>\n",
       "    </tr>\n",
       "    <tr>\n",
       "      <th>428</th>\n",
       "      <td>H17-L19</td>\n",
       "      <td>V135T</td>\n",
       "      <td>3</td>\n",
       "      <td>0.9</td>\n",
       "      <td>1</td>\n",
       "    </tr>\n",
       "    <tr>\n",
       "      <th>429</th>\n",
       "      <td>H17-L19</td>\n",
       "      <td>V135T</td>\n",
       "      <td>3</td>\n",
       "      <td>2.1</td>\n",
       "      <td>0.959</td>\n",
       "    </tr>\n",
       "    <tr>\n",
       "      <th>430</th>\n",
       "      <td>H17-L19</td>\n",
       "      <td>V135T</td>\n",
       "      <td>3</td>\n",
       "      <td>4.9</td>\n",
       "      <td>0.991</td>\n",
       "    </tr>\n",
       "    <tr>\n",
       "      <th>431</th>\n",
       "      <td>H17-L19</td>\n",
       "      <td>V135T</td>\n",
       "      <td>3</td>\n",
       "      <td>11.4</td>\n",
       "      <td>0.747</td>\n",
       "    </tr>\n",
       "  </tbody>\n",
       "</table>\n",
       "</div>"
      ],
      "text/plain": [
       "       serum  virus  replicate  concentration  fraction infectivity\n",
       "427  H17-L19  V135T          3          0.386                  1.02\n",
       "428  H17-L19  V135T          3            0.9                     1\n",
       "429  H17-L19  V135T          3            2.1                 0.959\n",
       "430  H17-L19  V135T          3            4.9                 0.991\n",
       "431  H17-L19  V135T          3           11.4                 0.747"
      ]
     },
     "execution_count": 5,
     "metadata": {},
     "output_type": "execute_result"
    }
   ],
   "source": [
    "data.tail()"
   ]
  },
  {
   "cell_type": "markdown",
   "metadata": {},
   "source": [
    "As can be seen above, the data are organized into five columns, all of which must be present.\n",
    "These columns are:\n",
    "  - *serum*: the name of the serum (or antibody).\n",
    "    FI6v3 and H17-L19 are actually antibodies, not sera--but :mod:class:`neutcurve.CurveFits` is set up to refer to things as serum.\n",
    "  - *virus*: the name of the virus being neutralized by the serum.\n",
    "  - *replicate*: the replicate label for the measurement. Although you can have just one replicate, it's good experimental practice to have several.\n",
    "    All the replicates for a given virus / serum combination must have been measured at the same concentrations.\n",
    "  - *concentration*: the concentration of the serum.\n",
    "  - *fraction infectivity*: the fraction infectivity of the virus at this concentration of the serum measured in this replicate.\n",
    "  \n",
    "Note that the data are in [tidy form](https://cran.r-project.org/web/packages/tidyr/vignettes/tidy-data.html); you must make your data frame tidy before you can analyze it with :mod:class:`neutcurve.CurveFits`. "
   ]
  },
  {
   "cell_type": "markdown",
   "metadata": {},
   "source": [
    "## Fitting the curves\n",
    "Once you have the tidy data frame, it's easy to pass it to :mod:class:`neutcurve.CurveFits`.\n",
    "We expect all of these antibodies to go to complete neutralization when they are effective, so we use the `fixbottom=0` argument (see :mod:class:`neutcurve.hillcurve.HillCurves` for more details about this option):"
   ]
  },
  {
   "cell_type": "code",
   "execution_count": 6,
   "metadata": {},
   "outputs": [],
   "source": [
    "fits = neutcurve.CurveFits(data,\n",
    "                           fixbottom=0,\n",
    "                           )"
   ]
  },
  {
   "cell_type": "markdown",
   "metadata": {},
   "source": [
    "Note that :mod:class:`neutcurve.CurveFits` has the same `fixtop` and `fixbottom` arguments as described for a :mod:class:`hillcurve.HillCurve` in the previous section; it also has arguments that all you to name the columns in data something else (for instance, you can set `serum_col='antibody'` if your data frame lists antibodies instead of sera).\n",
    "\n",
    "Now we can look at the different sera for which we have fit curves:"
   ]
  },
  {
   "cell_type": "code",
   "execution_count": 7,
   "metadata": {},
   "outputs": [
    {
     "data": {
      "text/plain": [
       "['FI6v3', 'H17-L19']"
      ]
     },
     "execution_count": 7,
     "metadata": {},
     "output_type": "execute_result"
    }
   ],
   "source": [
    "fits.sera"
   ]
  },
  {
   "cell_type": "markdown",
   "metadata": {},
   "source": [
    "We can also look at the viruses measured against each serum.\n",
    "Here we do this for \"serum\" FI6v3:"
   ]
  },
  {
   "cell_type": "code",
   "execution_count": 8,
   "metadata": {},
   "outputs": [
    {
     "name": "stdout",
     "output_type": "stream",
     "text": [
      "Viruses measured against FI6v3:\n",
      "['WT', 'K(-8T)', 'P80D', 'V135T', 'K280A', 'K280S', 'K280T', 'N291S', 'M17L-HA2', 'G47R-HA2']\n",
      "Viruses measured against H17-L19:\n",
      "['WT', 'V135T']\n"
     ]
    }
   ],
   "source": [
    "for serum in fits.sera:\n",
    "    print(f\"Viruses measured against {serum}:\")\n",
    "    print(fits.viruses[serum])"
   ]
  },
  {
   "cell_type": "markdown",
   "metadata": {},
   "source": [
    "We can also look at the replicates for each serum and virus.\n",
    "Here we just do that for serum *FI6v3* and virus *WT*.\n",
    "See how in addition to the three replicates we have passed, there is also now an \"average\" replicate that is computed from the average of the other replicates:"
   ]
  },
  {
   "cell_type": "code",
   "execution_count": 9,
   "metadata": {},
   "outputs": [
    {
     "data": {
      "text/plain": [
       "['1', '2', '3', 'average']"
      ]
     },
     "execution_count": 9,
     "metadata": {},
     "output_type": "execute_result"
    }
   ],
   "source": [
    "fits.replicates[('FI6v3', 'WT')]"
   ]
  },
  {
   "cell_type": "markdown",
   "metadata": {},
   "source": [
    "## Looking at a specific curve"
   ]
  },
  {
   "cell_type": "markdown",
   "metadata": {},
   "source": [
    "We can use the :mod:class:`curvefits.CurveFits.getCurve` method to get the fit for a particular\n",
    "serum / virus / replicate combination.\n",
    "For instance, here we do that for *serum* FI6v3 versus *virus* WT, *replicate* 1.\n",
    "We then plot the curve and get the IC50:"
   ]
  },
  {
   "cell_type": "code",
   "execution_count": 10,
   "metadata": {},
   "outputs": [
    {
     "name": "stdout",
     "output_type": "stream",
     "text": [
      "The IC50 is 0.0167\n"
     ]
    },
    {
     "data": {
      "image/png": "[encoded data removed]",
      "text/plain": [
       "<Figure size 288x216 with 1 Axes>"
      ]
     },
     "metadata": {
      "needs_background": "light"
     },
     "output_type": "display_data"
    }
   ],
   "source": [
    "curve = fits.getCurve(serum='FI6v3', virus='WT', replicate='1')\n",
    "print(f\"The IC50 is {curve.ic50():.3g}\")\n",
    "fig, ax = curve.plot()"
   ]
  },
  {
   "cell_type": "markdown",
   "metadata": {},
   "source": [
    "The :mod:class:`curvefits.CurveFits` also calculates the average and standard deviation of the measurements for each serum / virus, and fits them under a replicate name of \"average\".\n",
    "So here is the fit to the average of the data for *serum* FI6v3 and *virus* WT.\n",
    "Note how the plot now also shows error bars indicating the standard deviation:"
   ]
  },
  {
   "cell_type": "code",
   "execution_count": 11,
   "metadata": {},
   "outputs": [
    {
     "name": "stdout",
     "output_type": "stream",
     "text": [
      "The IC50 is 0.0195\n"
     ]
    },
    {
     "data": {
      "image/png": "[encoded data removed]",
      "text/plain": [
       "<Figure size 288x216 with 1 Axes>"
      ]
     },
     "metadata": {
      "needs_background": "light"
     },
     "output_type": "display_data"
    }
   ],
   "source": [
    "curve = fits.getCurve(serum='FI6v3', virus='WT', replicate='average')\n",
    "print(f\"The IC50 is {curve.ic50():.3g}\")\n",
    "fig, ax = curve.plot()"
   ]
  },
  {
   "cell_type": "markdown",
   "metadata": {},
   "source": [
    "## Fit parameters for all curves\n",
    "You can get the fit parameters for the curves using :meth:`neutcurve.curvefits.CurveFits.fitParams`.\n",
    "By default, this just gets the fits for the average of the replicates.\n",
    "The parameters are all of those fit by a :meth:`neutcurve.curvefits.HillCurve`, plus the IC50 in several forms to accurately represent interpolated IC50s (IC50 within range of data) versus IC50s where we can just get the bound from the upper or lower limits of the data:"
   ]
  },
  {
   "cell_type": "code",
   "execution_count": 12,
   "metadata": {},
   "outputs": [
    {
     "data": {
      "text/html": [
       "<div>\n",
       "<style scoped>\n",
       "    .dataframe tbody tr th:only-of-type {\n",
       "        vertical-align: middle;\n",
       "    }\n",
       "\n",
       "    .dataframe tbody tr th {\n",
       "        vertical-align: top;\n",
       "    }\n",
       "\n",
       "    .dataframe thead th {\n",
       "        text-align: right;\n",
       "    }\n",
       "</style>\n",
       "<table border=\"1\" class=\"dataframe\">\n",
       "  <thead>\n",
       "    <tr style=\"text-align: right;\">\n",
       "      <th></th>\n",
       "      <th>index</th>\n",
       "      <th>serum</th>\n",
       "      <th>virus</th>\n",
       "      <th>replicate</th>\n",
       "      <th>nreplicates</th>\n",
       "      <th>ic50</th>\n",
       "      <th>ic50_bound</th>\n",
       "      <th>ic50_str</th>\n",
       "      <th>midpoint</th>\n",
       "      <th>slope</th>\n",
       "      <th>top</th>\n",
       "      <th>bottom</th>\n",
       "    </tr>\n",
       "  </thead>\n",
       "  <tbody>\n",
       "    <tr>\n",
       "      <th>0</th>\n",
       "      <td>3</td>\n",
       "      <td>FI6v3</td>\n",
       "      <td>WT</td>\n",
       "      <td>average</td>\n",
       "      <td>3</td>\n",
       "      <td>0.0195</td>\n",
       "      <td>interpolated</td>\n",
       "      <td>0.0195</td>\n",
       "      <td>0.0195</td>\n",
       "      <td>3</td>\n",
       "      <td>1</td>\n",
       "      <td>0</td>\n",
       "    </tr>\n",
       "    <tr>\n",
       "      <th>1</th>\n",
       "      <td>7</td>\n",
       "      <td>FI6v3</td>\n",
       "      <td>K(-8T)</td>\n",
       "      <td>average</td>\n",
       "      <td>3</td>\n",
       "      <td>0.0325</td>\n",
       "      <td>interpolated</td>\n",
       "      <td>0.0325</td>\n",
       "      <td>0.0325</td>\n",
       "      <td>2.9</td>\n",
       "      <td>1</td>\n",
       "      <td>0</td>\n",
       "    </tr>\n",
       "    <tr>\n",
       "      <th>2</th>\n",
       "      <td>11</td>\n",
       "      <td>FI6v3</td>\n",
       "      <td>P80D</td>\n",
       "      <td>average</td>\n",
       "      <td>3</td>\n",
       "      <td>0.0124</td>\n",
       "      <td>interpolated</td>\n",
       "      <td>0.0124</td>\n",
       "      <td>0.0124</td>\n",
       "      <td>2.3</td>\n",
       "      <td>1</td>\n",
       "      <td>0</td>\n",
       "    </tr>\n",
       "    <tr>\n",
       "      <th>3</th>\n",
       "      <td>15</td>\n",
       "      <td>FI6v3</td>\n",
       "      <td>V135T</td>\n",
       "      <td>average</td>\n",
       "      <td>3</td>\n",
       "      <td>0.0241</td>\n",
       "      <td>interpolated</td>\n",
       "      <td>0.0241</td>\n",
       "      <td>0.0241</td>\n",
       "      <td>2.09</td>\n",
       "      <td>1</td>\n",
       "      <td>0</td>\n",
       "    </tr>\n",
       "    <tr>\n",
       "      <th>4</th>\n",
       "      <td>19</td>\n",
       "      <td>FI6v3</td>\n",
       "      <td>K280A</td>\n",
       "      <td>average</td>\n",
       "      <td>3</td>\n",
       "      <td>0.0142</td>\n",
       "      <td>interpolated</td>\n",
       "      <td>0.0142</td>\n",
       "      <td>0.0142</td>\n",
       "      <td>3.18</td>\n",
       "      <td>1</td>\n",
       "      <td>0</td>\n",
       "    </tr>\n",
       "    <tr>\n",
       "      <th>5</th>\n",
       "      <td>23</td>\n",
       "      <td>FI6v3</td>\n",
       "      <td>K280S</td>\n",
       "      <td>average</td>\n",
       "      <td>3</td>\n",
       "      <td>0.0389</td>\n",
       "      <td>interpolated</td>\n",
       "      <td>0.0389</td>\n",
       "      <td>0.0389</td>\n",
       "      <td>2.9</td>\n",
       "      <td>1</td>\n",
       "      <td>0</td>\n",
       "    </tr>\n",
       "    <tr>\n",
       "      <th>6</th>\n",
       "      <td>27</td>\n",
       "      <td>FI6v3</td>\n",
       "      <td>K280T</td>\n",
       "      <td>average</td>\n",
       "      <td>3</td>\n",
       "      <td>0.0392</td>\n",
       "      <td>interpolated</td>\n",
       "      <td>0.0392</td>\n",
       "      <td>0.0392</td>\n",
       "      <td>2.33</td>\n",
       "      <td>1</td>\n",
       "      <td>0</td>\n",
       "    </tr>\n",
       "    <tr>\n",
       "      <th>7</th>\n",
       "      <td>31</td>\n",
       "      <td>FI6v3</td>\n",
       "      <td>N291S</td>\n",
       "      <td>average</td>\n",
       "      <td>3</td>\n",
       "      <td>0.106</td>\n",
       "      <td>interpolated</td>\n",
       "      <td>0.106</td>\n",
       "      <td>0.106</td>\n",
       "      <td>2.77</td>\n",
       "      <td>1</td>\n",
       "      <td>0</td>\n",
       "    </tr>\n",
       "    <tr>\n",
       "      <th>8</th>\n",
       "      <td>35</td>\n",
       "      <td>FI6v3</td>\n",
       "      <td>M17L-HA2</td>\n",
       "      <td>average</td>\n",
       "      <td>3</td>\n",
       "      <td>0.022</td>\n",
       "      <td>interpolated</td>\n",
       "      <td>0.022</td>\n",
       "      <td>0.022</td>\n",
       "      <td>2.69</td>\n",
       "      <td>1</td>\n",
       "      <td>0</td>\n",
       "    </tr>\n",
       "    <tr>\n",
       "      <th>9</th>\n",
       "      <td>39</td>\n",
       "      <td>FI6v3</td>\n",
       "      <td>G47R-HA2</td>\n",
       "      <td>average</td>\n",
       "      <td>3</td>\n",
       "      <td>0.0356</td>\n",
       "      <td>interpolated</td>\n",
       "      <td>0.0356</td>\n",
       "      <td>0.0356</td>\n",
       "      <td>3.32</td>\n",
       "      <td>1</td>\n",
       "      <td>0</td>\n",
       "    </tr>\n",
       "    <tr>\n",
       "      <th>10</th>\n",
       "      <td>43</td>\n",
       "      <td>H17-L19</td>\n",
       "      <td>WT</td>\n",
       "      <td>average</td>\n",
       "      <td>3</td>\n",
       "      <td>0.11</td>\n",
       "      <td>interpolated</td>\n",
       "      <td>0.11</td>\n",
       "      <td>0.11</td>\n",
       "      <td>4.76</td>\n",
       "      <td>1</td>\n",
       "      <td>0</td>\n",
       "    </tr>\n",
       "    <tr>\n",
       "      <th>11</th>\n",
       "      <td>47</td>\n",
       "      <td>H17-L19</td>\n",
       "      <td>V135T</td>\n",
       "      <td>average</td>\n",
       "      <td>3</td>\n",
       "      <td>11.4</td>\n",
       "      <td>upper</td>\n",
       "      <td>&gt;11.4</td>\n",
       "      <td>15.5</td>\n",
       "      <td>2.77</td>\n",
       "      <td>1</td>\n",
       "      <td>0</td>\n",
       "    </tr>\n",
       "  </tbody>\n",
       "</table>\n",
       "</div>"
      ],
      "text/plain": [
       "    index    serum     virus replicate  nreplicates   ic50    ic50_bound  \\\n",
       "0       3    FI6v3        WT   average            3 0.0195  interpolated   \n",
       "1       7    FI6v3    K(-8T)   average            3 0.0325  interpolated   \n",
       "2      11    FI6v3      P80D   average            3 0.0124  interpolated   \n",
       "3      15    FI6v3     V135T   average            3 0.0241  interpolated   \n",
       "4      19    FI6v3     K280A   average            3 0.0142  interpolated   \n",
       "5      23    FI6v3     K280S   average            3 0.0389  interpolated   \n",
       "6      27    FI6v3     K280T   average            3 0.0392  interpolated   \n",
       "7      31    FI6v3     N291S   average            3  0.106  interpolated   \n",
       "8      35    FI6v3  M17L-HA2   average            3  0.022  interpolated   \n",
       "9      39    FI6v3  G47R-HA2   average            3 0.0356  interpolated   \n",
       "10     43  H17-L19        WT   average            3   0.11  interpolated   \n",
       "11     47  H17-L19     V135T   average            3   11.4         upper   \n",
       "\n",
       "   ic50_str  midpoint  slope  top  bottom  \n",
       "0    0.0195    0.0195      3    1       0  \n",
       "1    0.0325    0.0325    2.9    1       0  \n",
       "2    0.0124    0.0124    2.3    1       0  \n",
       "3    0.0241    0.0241   2.09    1       0  \n",
       "4    0.0142    0.0142   3.18    1       0  \n",
       "5    0.0389    0.0389    2.9    1       0  \n",
       "6    0.0392    0.0392   2.33    1       0  \n",
       "7     0.106     0.106   2.77    1       0  \n",
       "8     0.022     0.022   2.69    1       0  \n",
       "9    0.0356    0.0356   3.32    1       0  \n",
       "10     0.11      0.11   4.76    1       0  \n",
       "11    >11.4      15.5   2.77    1       0  "
      ]
     },
     "execution_count": 12,
     "metadata": {},
     "output_type": "execute_result"
    }
   ],
   "source": [
    "fits.fitParams()"
   ]
  },
  {
   "cell_type": "markdown",
   "metadata": {},
   "source": [
    "Note that by default, :meth:`neutcurve.curvefits.CurveFits.fitParams` only returns the fitted params for the averages.\n",
    "If you want to also return them for individual replicates, using the `average_only=False` argument, as in:"
   ]
  },
  {
   "cell_type": "code",
   "execution_count": 13,
   "metadata": {},
   "outputs": [
    {
     "data": {
      "text/html": [
       "<div>\n",
       "<style scoped>\n",
       "    .dataframe tbody tr th:only-of-type {\n",
       "        vertical-align: middle;\n",
       "    }\n",
       "\n",
       "    .dataframe tbody tr th {\n",
       "        vertical-align: top;\n",
       "    }\n",
       "\n",
       "    .dataframe thead th {\n",
       "        text-align: right;\n",
       "    }\n",
       "</style>\n",
       "<table border=\"1\" class=\"dataframe\">\n",
       "  <thead>\n",
       "    <tr style=\"text-align: right;\">\n",
       "      <th></th>\n",
       "      <th>serum</th>\n",
       "      <th>virus</th>\n",
       "      <th>replicate</th>\n",
       "      <th>nreplicates</th>\n",
       "      <th>ic50</th>\n",
       "      <th>ic50_bound</th>\n",
       "      <th>ic50_str</th>\n",
       "      <th>midpoint</th>\n",
       "      <th>slope</th>\n",
       "      <th>top</th>\n",
       "      <th>bottom</th>\n",
       "    </tr>\n",
       "  </thead>\n",
       "  <tbody>\n",
       "    <tr>\n",
       "      <th>0</th>\n",
       "      <td>FI6v3</td>\n",
       "      <td>WT</td>\n",
       "      <td>1</td>\n",
       "      <td>NaN</td>\n",
       "      <td>0.0167</td>\n",
       "      <td>interpolated</td>\n",
       "      <td>0.0167</td>\n",
       "      <td>0.0167</td>\n",
       "      <td>2.5</td>\n",
       "      <td>1</td>\n",
       "      <td>0</td>\n",
       "    </tr>\n",
       "    <tr>\n",
       "      <th>1</th>\n",
       "      <td>FI6v3</td>\n",
       "      <td>WT</td>\n",
       "      <td>2</td>\n",
       "      <td>NaN</td>\n",
       "      <td>0.019</td>\n",
       "      <td>interpolated</td>\n",
       "      <td>0.019</td>\n",
       "      <td>0.019</td>\n",
       "      <td>2.51</td>\n",
       "      <td>1</td>\n",
       "      <td>0</td>\n",
       "    </tr>\n",
       "    <tr>\n",
       "      <th>2</th>\n",
       "      <td>FI6v3</td>\n",
       "      <td>WT</td>\n",
       "      <td>3</td>\n",
       "      <td>NaN</td>\n",
       "      <td>0.0152</td>\n",
       "      <td>interpolated</td>\n",
       "      <td>0.0152</td>\n",
       "      <td>0.0152</td>\n",
       "      <td>1.88</td>\n",
       "      <td>1</td>\n",
       "      <td>0</td>\n",
       "    </tr>\n",
       "    <tr>\n",
       "      <th>3</th>\n",
       "      <td>FI6v3</td>\n",
       "      <td>WT</td>\n",
       "      <td>average</td>\n",
       "      <td>3</td>\n",
       "      <td>0.0195</td>\n",
       "      <td>interpolated</td>\n",
       "      <td>0.0195</td>\n",
       "      <td>0.0195</td>\n",
       "      <td>3</td>\n",
       "      <td>1</td>\n",
       "      <td>0</td>\n",
       "    </tr>\n",
       "    <tr>\n",
       "      <th>4</th>\n",
       "      <td>FI6v3</td>\n",
       "      <td>K(-8T)</td>\n",
       "      <td>1</td>\n",
       "      <td>NaN</td>\n",
       "      <td>0.0308</td>\n",
       "      <td>interpolated</td>\n",
       "      <td>0.0308</td>\n",
       "      <td>0.0308</td>\n",
       "      <td>2.62</td>\n",
       "      <td>1</td>\n",
       "      <td>0</td>\n",
       "    </tr>\n",
       "  </tbody>\n",
       "</table>\n",
       "</div>"
      ],
      "text/plain": [
       "   serum   virus replicate  nreplicates   ic50    ic50_bound ic50_str  \\\n",
       "0  FI6v3      WT         1          NaN 0.0167  interpolated   0.0167   \n",
       "1  FI6v3      WT         2          NaN  0.019  interpolated    0.019   \n",
       "2  FI6v3      WT         3          NaN 0.0152  interpolated   0.0152   \n",
       "3  FI6v3      WT   average            3 0.0195  interpolated   0.0195   \n",
       "4  FI6v3  K(-8T)         1          NaN 0.0308  interpolated   0.0308   \n",
       "\n",
       "   midpoint  slope  top  bottom  \n",
       "0    0.0167    2.5    1       0  \n",
       "1     0.019   2.51    1       0  \n",
       "2    0.0152   1.88    1       0  \n",
       "3    0.0195      3    1       0  \n",
       "4    0.0308   2.62    1       0  "
      ]
     },
     "execution_count": 13,
     "metadata": {},
     "output_type": "execute_result"
    }
   ],
   "source": [
    "fits.fitParams(average_only=False).head()"
   ]
  },
  {
   "cell_type": "markdown",
   "metadata": {},
   "source": [
    "## Plotting the curves\n",
    "[Fig 6a,b of Doud et al (2018)](https://www.nature.com/articles/s41467-018-03665-3#Fig6).\n",
    "\n",
    "We use the colors and markers defined in :mod:`neutcurve.colorschemes`"
   ]
  },
  {
   "cell_type": "code",
   "execution_count": 14,
   "metadata": {},
   "outputs": [
    {
     "data": {
      "image/png": "[encoded data removed]",
      "text/plain": [
       "<Figure size 720x558 with 10 Axes>"
      ]
     },
     "metadata": {
      "needs_background": "light"
     },
     "output_type": "display_data"
    }
   ],
   "source": [
    "fig, axes = fits.plotGrid(\n",
    "                {\n",
    "                 # upper right: FI6v3 versus WT, K280S, K280T, K280A\n",
    "                 (0, 0): ('FI6v3',\n",
    "                          [{'serum': 'FI6v3', 'virus': 'WT',\n",
    "                            'replicate': 'average', 'color': CBPALETTE[0],\n",
    "                            'marker': CBMARKERS[0], 'label':'WT'},\n",
    "                           {'serum': 'FI6v3', 'virus': 'K280S',\n",
    "                            'replicate': 'average', 'color': CBPALETTE[1],\n",
    "                            'marker': CBMARKERS[1], 'label':'K280S'},\n",
    "                           {'serum': 'FI6v3', 'virus': 'K280T',\n",
    "                            'replicate': 'average', 'color': CBPALETTE[2],\n",
    "                            'marker': CBMARKERS[2], 'label':'K280T'},\n",
    "                           {'serum': 'FI6v3', 'virus': 'K280A',\n",
    "                            'replicate': 'average', 'color': CBPALETTE[3],\n",
    "                            'marker': CBMARKERS[3], 'label':'K280A'},\n",
    "                           ]\n",
    "                          ),\n",
    "                 # upper center: FI6v3 versus WT, N291S\n",
    "                 (0, 1): ('FI6v3',\n",
    "                          [{'serum': 'FI6v3', 'virus': 'WT',\n",
    "                            'replicate': 'average', 'color': CBPALETTE[0],\n",
    "                            'marker': CBMARKERS[0], 'label': 'WT'},\n",
    "                           {'serum': 'FI6v3', 'virus': 'N291S',\n",
    "                            'replicate': 'average', 'color': CBPALETTE[1],\n",
    "                            'marker': CBMARKERS[1], 'label': 'N291S'},\n",
    "                           ]\n",
    "                          ),\n",
    "                 # upper right: FI6v3 versus WT, G47R-HA2\n",
    "                 (0, 2): ('FI6v3',\n",
    "                          [{'serum': 'FI6v3', 'virus': 'WT',\n",
    "                            'replicate': 'average', 'color': CBPALETTE[0],\n",
    "                            'marker': CBMARKERS[0], 'label': 'WT'},\n",
    "                           {'serum': 'FI6v3', 'virus': 'G47R-HA2',\n",
    "                            'replicate': 'average', 'color': CBPALETTE[1],\n",
    "                            'marker': CBMARKERS[1], 'label': 'G47R(HA2)'},\n",
    "                           ]\n",
    "                          ),\n",
    "                 # middle right: FI6v3 versus WT, K(-8T)\n",
    "                 (1, 0): ('FI6v3',\n",
    "                          [{'serum': 'FI6v3', 'virus': 'WT',\n",
    "                            'replicate': 'average', 'color': CBPALETTE[0],\n",
    "                            'marker': CBMARKERS[0], 'label': 'WT'},\n",
    "                           {'serum': 'FI6v3', 'virus': 'K(-8T)',\n",
    "                            'replicate': 'average', 'color': CBPALETTE[1],\n",
    "                            'marker': CBMARKERS[1], 'label': 'K(-8T)'},\n",
    "                           ]\n",
    "                          ),\n",
    "                 # middle center: FI6v3 versus WT, M17L-HA2\n",
    "                 (1, 1): ('FI6v3',\n",
    "                          [{'serum': 'FI6v3', 'virus': 'WT',\n",
    "                            'replicate': 'average', 'color': CBPALETTE[0],\n",
    "                            'marker': CBMARKERS[0], 'label': 'WT'},\n",
    "                           {'serum': 'FI6v3', 'virus': 'M17L-HA2',\n",
    "                            'replicate': 'average', 'color': CBPALETTE[1],\n",
    "                            'marker': CBMARKERS[1], 'label': 'M17L(HA2)'},\n",
    "                           ]\n",
    "                          ),\n",
    "                 # middle right: FI6v3 versus WT, P80D, V135T\n",
    "                 (1, 2): ('FI6v3',\n",
    "                          [{'serum': 'FI6v3', 'virus': 'WT',\n",
    "                            'replicate': 'average', 'color': CBPALETTE[0],\n",
    "                            'marker': CBMARKERS[0], 'label': 'WT'},\n",
    "                           {'serum': 'FI6v3', 'virus': 'P80D',\n",
    "                            'replicate': 'average', 'color': CBPALETTE[1],\n",
    "                            'marker': CBMARKERS[1], 'label': 'P80D'},\n",
    "                           {'serum': 'FI6v3', 'virus': 'V135T',\n",
    "                            'replicate': 'average', 'color': CBPALETTE[2],\n",
    "                            'marker': CBMARKERS[2], 'label': 'V135T'},\n",
    "                           ]\n",
    "                          ),\n",
    "                 # middle left: H17-L19 versus WT, V135T\n",
    "                 (2, 0): ('H17-L19',\n",
    "                          [{'serum': 'H17-L19', 'virus': 'WT',\n",
    "                            'replicate': 'average', 'color': CBPALETTE[0],\n",
    "                            'marker': CBMARKERS[0], 'label': 'WT'},\n",
    "                           {'serum': 'H17-L19', 'virus': 'V135T',\n",
    "                            'replicate': 'average', 'color': CBPALETTE[2],\n",
    "                            'marker': CBMARKERS[1], 'label': 'V135T'},\n",
    "                           ]\n",
    "                          ),\n",
    "                 },\n",
    "                xlabel='concentration (ug/ml)',\n",
    "                )"
   ]
  },
  {
   "cell_type": "code",
   "execution_count": null,
   "metadata": {},
   "outputs": [],
   "source": []
  }
 ],
 "metadata": {
  "kernelspec": {
   "display_name": "Python 3",
   "language": "python",
   "name": "python3"
  },
  "language_info": {
   "codemirror_mode": {
    "name": "ipython",
    "version": 3
   },
   "file_extension": ".py",
   "mimetype": "text/x-python",
   "name": "python",
   "nbconvert_exporter": "python",
   "pygments_lexer": "ipython3",
   "version": "3.6.7"
  }
 },
 "nbformat": 4,
 "nbformat_minor": 2
}
